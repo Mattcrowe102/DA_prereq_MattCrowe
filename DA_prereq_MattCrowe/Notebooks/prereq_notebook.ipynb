{
 "cells": [
  {
   "cell_type": "code",
   "execution_count": 1,
   "id": "5bb3af6c",
   "metadata": {},
   "outputs": [
    {
     "name": "stdout",
     "output_type": "stream",
     "text": [
      "12\n"
     ]
    }
   ],
   "source": [
    "a = 5\n",
    "b = 7\n",
    "\n",
    "print(a + b)"
   ]
  },
  {
   "cell_type": "markdown",
   "id": "af63a7e1",
   "metadata": {},
   "source": [
    "Hello! My name is Matthew Crowe and I'm excited to be finally attempting something to make a better living. I am married, I have a 4 year old little girl and as of today (10/22/25) I have an 8 day old little girl. I'm excited to learn how to speak computer and potentially start a new career. Having said all that, the one thing that I must let you know is that my family comes first and my new daughter will be occupying quite a bit of my time. I have committed to this and will be working as hard as possible to keep up and learn properly!"
   ]
  }
 ],
 "metadata": {
  "kernelspec": {
   "display_name": "Python 3",
   "language": "python",
   "name": "python3"
  },
  "language_info": {
   "codemirror_mode": {
    "name": "ipython",
    "version": 3
   },
   "file_extension": ".py",
   "mimetype": "text/x-python",
   "name": "python",
   "nbconvert_exporter": "python",
   "pygments_lexer": "ipython3",
   "version": "3.13.7"
  }
 },
 "nbformat": 4,
 "nbformat_minor": 5
}
